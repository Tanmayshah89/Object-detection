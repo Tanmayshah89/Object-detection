{
 "cells": [
  {
   "cell_type": "code",
   "execution_count": null,
   "id": "c02da86d-57af-477d-be12-84658a78184d",
   "metadata": {},
   "outputs": [],
   "source": [
    "!pip install myplotlib"
   ]
  },
  {
   "cell_type": "code",
   "execution_count": null,
   "id": "2c13ba00-61e8-411c-b504-24b0c611a862",
   "metadata": {},
   "outputs": [],
   "source": [
    "!pip install opencv.python\n"
   ]
  },
  {
   "cell_type": "code",
   "execution_count": null,
   "id": "42822cd5-5c58-47fc-80e7-dbda610512ee",
   "metadata": {},
   "outputs": [],
   "source": [
    "import cv2\n",
    "import matplotlib.pyplot as plt"
   ]
  },
  {
   "cell_type": "code",
   "execution_count": null,
   "id": "c2aec593-1bb6-47b4-a4b4-477e14145f7c",
   "metadata": {},
   "outputs": [],
   "source": [
    "config_file='ssd_mobilenet_v3_large_coco_2020_01_14.pbtxt'\n",
    "frozen_model='frozen_inference_graph.pb'"
   ]
  },
  {
   "cell_type": "code",
   "execution_count": null,
   "id": "d1777505-703c-46f9-b1ab-61078632fa26",
   "metadata": {},
   "outputs": [],
   "source": [
    "model=cv2.dnn_DetectionModel(frozen_model,config_file)"
   ]
  },
  {
   "cell_type": "code",
   "execution_count": null,
   "id": "1a055135-01f4-4c43-91ef-6998a769e741",
   "metadata": {},
   "outputs": [],
   "source": [
    "classLabels=[]\n",
    "file_name='labels.txt'\n",
    "with open (file_name,'rt')as fpt:\n",
    "    classLabels=fpt.read().rstrip('\\n').split('\\n')"
   ]
  },
  {
   "cell_type": "code",
   "execution_count": null,
   "id": "57698677-ba0a-487e-b4c0-10e9c147c256",
   "metadata": {},
   "outputs": [],
   "source": [
    "model.setInputSize(320,320)\n",
    "model.setInputScale(1.0/127.5)\n",
    "model.setInputMean((127.5,127.5,127.5))\n",
    "model.setInputSwapRB(True)"
   ]
  },
  {
   "cell_type": "code",
   "execution_count": null,
   "id": "70bd561b-8898-42d9-824c-0957fe448aec",
   "metadata": {},
   "outputs": [],
   "source": [
    "img=cv2.imread('ta.jpg')\n",
    "plt.imshow(img)"
   ]
  },
  {
   "cell_type": "code",
   "execution_count": null,
   "id": "e94a4622-8551-455c-acc7-409e6149f3a4",
   "metadata": {},
   "outputs": [],
   "source": [
    "ClassIndex,confidece,bbox=model.detect(img,confThreshold=0.5)\n"
   ]
  },
  {
   "cell_type": "code",
   "execution_count": null,
   "id": "cc7b4d80-1c9e-447b-9a61-28aa8d212c0c",
   "metadata": {},
   "outputs": [],
   "source": [
    "font_scale=3\n",
    "font=cv2.FONT_HERSHEY_PLAIN\n",
    "for ClassInd,conf,boxes in zip(ClassIndex.flatten(),confidece.flatten(),bbox):\n",
    "    cv2.rectangle(img,boxes,(255,0,0),2)\n",
    "    cv2.putText(img,classLabels[ClassInd-1],(boxes[0]+10,boxes[1]+40),font,fontScale=font_scale,color=(0,255,0),thickness=3) "
   ]
  },
  {
   "cell_type": "code",
   "execution_count": null,
   "id": "a30b3735-83b1-43b4-935a-93913696c6e2",
   "metadata": {},
   "outputs": [],
   "source": [
    "plt.imshow(cv2.cvtColor(img,cv2.COLOR_BGR2RGB))"
   ]
  },
  {
   "cell_type": "code",
   "execution_count": null,
   "id": "032c5bf5-27d2-4856-96a4-90df0700503f",
   "metadata": {},
   "outputs": [],
   "source": [
    "\n",
    "cap = cv2.VideoCapture(1)\n",
    "if not cap.isOpened():\n",
    "    cap = cv2.VideoCapture(0)\n",
    "if not cap.isOpened():\n",
    "     raise IOError('Cant open camera')\n",
    "font_scale=3\n",
    "font=cv2.FONT_HERSHEY_PLAIN\n",
    "while True:\n",
    "     ret,frame=cap.read()\n",
    "     ClassIndex,confidece,bbox=model.detect(frame,confThreshold=0.55)\n",
    "     print(ClassIndex)\n",
    "     if(len(ClassIndex)!=0):\n",
    "        for ClassInd,conf,boxes in zip(ClassIndex.flatten(),confidece.flatten(),bbox):\n",
    "           if(ClassInd<=80):\n",
    "             cv2.rectangle(frame,boxes,(255,0,0),2)\n",
    "             cv2.putText(frame,classLabels[ClassInd-1],(boxes[0]+10,boxes[1]+40),font,fontScale=font_scale,color=(0,255,0),thickness=3)\n",
    "\n",
    "     cv2.imshow('object detection ',frame)\n",
    "     if cv2.waitKey(2) & 0xff==ord('q'):\n",
    "         break\n",
    "     \n",
    "cap.release()\n",
    "cv2.destroyAllWindows()             "
   ]
  },
  {
   "cell_type": "code",
   "execution_count": null,
   "id": "61ffef4f-bdf0-4970-b4e7-79afe11bf97f",
   "metadata": {},
   "outputs": [],
   "source": []
  },
  {
   "cell_type": "code",
   "execution_count": null,
   "id": "af98bce0-84c9-4f2c-b5d3-afe5d5acad4c",
   "metadata": {},
   "outputs": [],
   "source": []
  }
 ],
 "metadata": {
  "kernelspec": {
   "display_name": "Python 3 (ipykernel)",
   "language": "python",
   "name": "python3"
  },
  "language_info": {
   "codemirror_mode": {
    "name": "ipython",
    "version": 3
   },
   "file_extension": ".py",
   "mimetype": "text/x-python",
   "name": "python",
   "nbconvert_exporter": "python",
   "pygments_lexer": "ipython3",
   "version": "3.11.7"
  }
 },
 "nbformat": 4,
 "nbformat_minor": 5
}
